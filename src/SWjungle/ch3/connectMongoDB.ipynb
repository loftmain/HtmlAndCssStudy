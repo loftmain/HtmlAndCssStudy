{
 "cells": [
  {
   "cell_type": "code",
   "execution_count": 1,
   "metadata": {
    "collapsed": true
   },
   "outputs": [],
   "source": [
    "from pymongo import MongoClient\n",
    "client = MongoClient('localhost', 27017)\n",
    "db = client.dbsparta"
   ]
  },
  {
   "cell_type": "code",
   "execution_count": null,
   "outputs": [],
   "source": [
    "# MongoDB에 insert하기\n",
    "\n",
    "# 'users'라는 collection에 {'name':'hobby', 'age':21}를 넣습니다.\n",
    "# db.users.insert_one({'name':'bobby', 'age':21})\n",
    "# db.users.insert_one({'name':'kay', 'age':27})\n",
    "# db.users.insert_one({'name':'john', 'age':30})"
   ],
   "metadata": {
    "collapsed": false,
    "pycharm": {
     "name": "#%%\n"
    }
   }
  },
  {
   "cell_type": "code",
   "execution_count": 2,
   "outputs": [
    {
     "name": "stdout",
     "output_type": "stream",
     "text": [
      "{'_id': ObjectId('5faa3e9cd1b45728a0b83c58'), 'name': 'bobby', 'age': 21}\n",
      "bobby\n",
      "{'_id': ObjectId('5faa3e9cd1b45728a0b83c58'), 'name': 'bobby', 'age': 21}\n",
      "{'_id': ObjectId('5faa3e9cd1b45728a0b83c59'), 'name': 'kay', 'age': 27}\n",
      "{'_id': ObjectId('5faa3e9cd1b45728a0b83c5a'), 'name': 'john', 'age': 30}\n"
     ]
    }
   ],
   "source": [
    "# MongoDB에서 데이터 모두 보기\n",
    "all_users = list(db.users.find({}))\n",
    "\n",
    "# 참고) MongoDB에서 특정 조건의 데이터 모두 보기\n",
    "same_ages = list(db.users.find({'age':21}))\n",
    "\n",
    "print(all_users[0])\n",
    "print(all_users[0]['name'])\n",
    "\n",
    "for user in all_users:\n",
    "    print(user)"
   ],
   "metadata": {
    "collapsed": false,
    "pycharm": {
     "name": "#%%\n"
    }
   }
  },
  {
   "cell_type": "code",
   "execution_count": 3,
   "outputs": [
    {
     "name": "stdout",
     "output_type": "stream",
     "text": [
      "{'_id': ObjectId('5faa3e9cd1b45728a0b83c58'), 'name': 'bobby', 'age': 21}\n",
      "{'name': 'bobby', 'age': 21}\n"
     ]
    }
   ],
   "source": [
    "# 특정 결과 값을 뽑아 보기\n",
    "user = db.users.find_one({'name':'bobby'})\n",
    "print(user)\n",
    "\n",
    "# 그 중 특정 키 값을 빼고 보기\n",
    "user = db.users.find_one({'name':'bobby'}, {'_id':False})\n",
    "print(user)\n"
   ],
   "metadata": {
    "collapsed": false,
    "pycharm": {
     "name": "#%%\n"
    }
   }
  },
  {
   "cell_type": "code",
   "execution_count": 4,
   "outputs": [
    {
     "name": "stdout",
     "output_type": "stream",
     "text": [
      "{'_id': ObjectId('5faa3e9cd1b45728a0b83c58'), 'name': 'bobby', 'age': 19}\n"
     ]
    }
   ],
   "source": [
    "# 수정하기\n",
    "\n",
    "# 생김새\n",
    "# db.people.update_many(찾을 조건, {'$set': 어떻게 바꿀지})\n",
    "\n",
    "db.users.update_one({'name':'bobby'}, {'$set':{'age':19}})\n",
    "\n",
    "user = db.users.find_one({'name':'bobby'})\n",
    "print(user)\n"
   ],
   "metadata": {
    "collapsed": false,
    "pycharm": {
     "name": "#%%\n"
    }
   }
  },
  {
   "cell_type": "code",
   "execution_count": 5,
   "outputs": [
    {
     "name": "stdout",
     "output_type": "stream",
     "text": [
      "None\n"
     ]
    }
   ],
   "source": [
    "db.users.delete_one({'name':'bobby'})\n",
    "\n",
    "user = db.users.find_one({'name':'bobby'})\n",
    "print(user)\n"
   ],
   "metadata": {
    "collapsed": false,
    "pycharm": {
     "name": "#%%\n"
    }
   }
  },
  {
   "cell_type": "code",
   "execution_count": 6,
   "outputs": [
    {
     "name": "stdout",
     "output_type": "stream",
     "text": [
      "[]\n"
     ]
    }
   ],
   "source": [
    "# 여러개 찾기 - 예시 ( _id 값은 제외하고 출력)\n",
    "same_ages = list(db.users.find({'age':21},{'_id':False}))\n",
    "print(same_ages)"
   ],
   "metadata": {
    "collapsed": false,
    "pycharm": {
     "name": "#%%\n"
    }
   }
  },
  {
   "cell_type": "code",
   "execution_count": null,
   "outputs": [],
   "source": [],
   "metadata": {
    "collapsed": false,
    "pycharm": {
     "name": "#%%\n"
    }
   }
  },
  {
   "cell_type": "code",
   "execution_count": null,
   "outputs": [],
   "source": [
    "\n"
   ],
   "metadata": {
    "collapsed": false,
    "pycharm": {
     "name": "#%%\n"
    }
   }
  }
 ],
 "metadata": {
  "kernelspec": {
   "display_name": "Python 3",
   "language": "python",
   "name": "python3"
  },
  "language_info": {
   "codemirror_mode": {
    "name": "ipython",
    "version": 2
   },
   "file_extension": ".py",
   "mimetype": "text/x-python",
   "name": "python",
   "nbconvert_exporter": "python",
   "pygments_lexer": "ipython2",
   "version": "2.7.6"
  }
 },
 "nbformat": 4,
 "nbformat_minor": 0
}